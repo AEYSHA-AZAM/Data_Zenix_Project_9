{
  "nbformat": 4,
  "nbformat_minor": 0,
  "metadata": {
    "colab": {
      "provenance": [],
      "authorship_tag": "ABX9TyMOfcmfxZ/KZXUsdGbxWcTO",
      "include_colab_link": true
    },
    "kernelspec": {
      "name": "python3",
      "display_name": "Python 3"
    },
    "language_info": {
      "name": "python"
    }
  },
  "cells": [
    {
      "cell_type": "markdown",
      "metadata": {
        "id": "view-in-github",
        "colab_type": "text"
      },
      "source": [
        "<a href=\"https://colab.research.google.com/github/AEYSHA-AZAM/Data_Zenix_Project_9/blob/main/Autocomplete_and_Autocorrect_Data_Analytics_Using_NLP.ipynb\" target=\"_parent\"><img src=\"https://colab.research.google.com/assets/colab-badge.svg\" alt=\"Open In Colab\"/></a>"
      ]
    },
    {
      "cell_type": "code",
      "source": [
        "# ✅ Step 1: Install and Import – DO THIS FIRST\n",
        "!pip install --quiet textblob matplotlib seaborn pandas\n",
        "\n",
        "import re\n",
        "from textblob import TextBlob\n",
        "import matplotlib.pyplot as plt\n",
        "import seaborn as sns\n",
        "import pandas as pd\n",
        "from collections import Counter\n"
      ],
      "metadata": {
        "id": "IOaLTnTod0rd"
      },
      "execution_count": 67,
      "outputs": []
    },
    {
      "cell_type": "code",
      "source": [
        "# ✅ Step 2: Clean and Tokenize without NLTK or TextBlob\n",
        "\n",
        "# 1. Sample input\n",
        "text_data = \"\"\"\n",
        "Natural language processing is the foundation of smart applications like autocomplete and autocorrect.\n",
        "Autocomplete helps predict the next word as you type.\n",
        "Autocorrect fixes spelling errors automatically.\n",
        "These features greatly improve the user experience in writing apps, search engines, and messaging.\n",
        "\"\"\"\n",
        "\n",
        "# 2. Clean the text (lowercase + remove punctuation)\n",
        "import re\n",
        "def clean_text(text):\n",
        "    text = text.lower()\n",
        "    text = re.sub(r\"[^a-z\\s]\", \"\", text)\n",
        "    return text\n",
        "\n",
        "# 3. Apply cleaning\n",
        "cleaned_text = clean_text(text_data)\n",
        "\n",
        "# 4. Tokenize manually (split by spaces)\n",
        "tokens = cleaned_text.split()\n",
        "\n",
        "# 5. Show output\n",
        "print(\"Cleaned Text:\\n\", cleaned_text)\n",
        "print(\"\\nTotal Tokens:\", len(tokens))\n",
        "print(\"Sample Tokens:\", tokens[:15])\n"
      ],
      "metadata": {
        "colab": {
          "base_uri": "https://localhost:8080/"
        },
        "id": "oPAp54bBeIj7",
        "outputId": "88e1c4bb-b044-4456-ed4b-023b1d0e0398"
      },
      "execution_count": 68,
      "outputs": [
        {
          "output_type": "stream",
          "name": "stdout",
          "text": [
            "Cleaned Text:\n",
            " \n",
            "natural language processing is the foundation of smart applications like autocomplete and autocorrect\n",
            "autocomplete helps predict the next word as you type\n",
            "autocorrect fixes spelling errors automatically\n",
            "these features greatly improve the user experience in writing apps search engines and messaging\n",
            "\n",
            "\n",
            "Total Tokens: 41\n",
            "Sample Tokens: ['natural', 'language', 'processing', 'is', 'the', 'foundation', 'of', 'smart', 'applications', 'like', 'autocomplete', 'and', 'autocorrect', 'autocomplete', 'helps']\n"
          ]
        }
      ]
    },
    {
      "cell_type": "code",
      "source": [
        "# ✅ Step 3: Autocorrect Example\n",
        "def autocorrect_text(text):\n",
        "    corrected = TextBlob(text).correct()\n",
        "    return str(corrected)\n",
        "\n",
        "test_sentences = [\n",
        "    \"Autocorect is improtant\",\n",
        "    \"Langauge is powrful\",\n",
        "    \"Experance is smoth\"\n",
        "]\n",
        "\n",
        "for s in test_sentences:\n",
        "    print(\"Original :\", s)\n",
        "    print(\"Corrected:\", autocorrect_text(s), \"\\n\")\n"
      ],
      "metadata": {
        "colab": {
          "base_uri": "https://localhost:8080/"
        },
        "id": "57lWUDrieUig",
        "outputId": "761bf5f3-3019-48b6-bfd7-1564ecb9481b"
      },
      "execution_count": 69,
      "outputs": [
        {
          "output_type": "stream",
          "name": "stdout",
          "text": [
            "Original : Autocorect is improtant\n",
            "Corrected: Autocorect is important \n",
            "\n",
            "Original : Langauge is powrful\n",
            "Corrected: Language is powerful \n",
            "\n",
            "Original : Experance is smoth\n",
            "Corrected: Experance is smooth \n",
            "\n"
          ]
        }
      ]
    },
    {
      "cell_type": "code",
      "source": [
        "# ✅ Step 4: Autocomplete using bigram\n",
        "def build_bigram_model(tokens):\n",
        "    bigrams = list(zip(tokens[:-1], tokens[1:]))\n",
        "    return Counter(bigrams)\n",
        "\n",
        "bigram_model = build_bigram_model(tokens)\n",
        "\n",
        "def autocomplete(word, model):\n",
        "    suggestions = [w2 for (w1, w2) in model if w1 == word]\n",
        "    return list(set(suggestions))[:3]\n",
        "\n",
        "print(\"Autocomplete for 'user':\", autocomplete(\"user\", bigram_model))\n",
        "print(\"Autocomplete for 'autocomplete':\", autocomplete(\"autocomplete\", bigram_model))\n"
      ],
      "metadata": {
        "colab": {
          "base_uri": "https://localhost:8080/"
        },
        "id": "GY7bc5fFeeVV",
        "outputId": "da13b3d2-a026-49da-c83f-4091a5138a63"
      },
      "execution_count": 70,
      "outputs": [
        {
          "output_type": "stream",
          "name": "stdout",
          "text": [
            "Autocomplete for 'user': ['experience']\n",
            "Autocomplete for 'autocomplete': ['and', 'helps']\n"
          ]
        }
      ]
    },
    {
      "cell_type": "code",
      "source": [
        "# ✅ Step 5: Frequency Plot\n",
        "word_counts = Counter(tokens)\n",
        "top_words = word_counts.most_common(10)\n",
        "\n",
        "words, freqs = zip(*top_words)\n",
        "plt.figure(figsize=(10,5))\n",
        "sns.barplot(x=list(words), y=list(freqs), palette=\"Blues_d\")\n",
        "plt.title(\"Top 10 Words\")\n",
        "plt.ylabel(\"Frequency\")\n",
        "plt.show()\n"
      ],
      "metadata": {
        "colab": {
          "base_uri": "https://localhost:8080/",
          "height": 578
        },
        "id": "4cZRiXabelje",
        "outputId": "8990cdad-27d0-42ef-8ed9-f4e3453856eb"
      },
      "execution_count": 71,
      "outputs": [
        {
          "output_type": "stream",
          "name": "stderr",
          "text": [
            "/tmp/ipython-input-585106775.py:7: FutureWarning: \n",
            "\n",
            "Passing `palette` without assigning `hue` is deprecated and will be removed in v0.14.0. Assign the `x` variable to `hue` and set `legend=False` for the same effect.\n",
            "\n",
            "  sns.barplot(x=list(words), y=list(freqs), palette=\"Blues_d\")\n"
          ]
        },
        {
          "output_type": "display_data",
          "data": {
            "text/plain": [
              "<Figure size 1000x500 with 1 Axes>"
            ],
            "image/png": "[encoded data removed]"
          },
          "metadata": {}
        }
      ]
    },
    {
      "cell_type": "code",
      "source": [
        "# ✅ Step 6: Simulated Accuracy\n",
        "y_true = ['experience', 'helps', 'predicts']\n",
        "y_pred = ['experance', 'helps', 'predicts']\n",
        "\n",
        "def accuracy(y_true, y_pred):\n",
        "    return round(sum(1 for a, b in zip(y_true, y_pred) if a == b) / len(y_true), 2)\n",
        "\n",
        "print(\"Simulated Accuracy:\", accuracy(y_true, y_pred))\n"
      ],
      "metadata": {
        "colab": {
          "base_uri": "https://localhost:8080/"
        },
        "id": "zAt8R5ckevbT",
        "outputId": "38cf6c88-67cc-447b-cfbc-f09c7a3fb87c"
      },
      "execution_count": 72,
      "outputs": [
        {
          "output_type": "stream",
          "name": "stdout",
          "text": [
            "Simulated Accuracy: 0.67\n"
          ]
        }
      ]
    },
    {
      "cell_type": "code",
      "source": [
        "# ✅ Step 7: Feedback Bar Chart\n",
        "feedback = pd.DataFrame({\n",
        "    'Feature': ['Autocomplete', 'Autocorrect'],\n",
        "    'Satisfaction (out of 5)': [4.5, 4.7]\n",
        "})\n",
        "\n",
        "sns.barplot(data=feedback, x='Feature', y='Satisfaction (out of 5)', palette=\"Purples\")\n",
        "plt.title(\"User Satisfaction Ratings\")\n",
        "plt.ylim(0, 5)\n",
        "plt.show()\n"
      ],
      "metadata": {
        "colab": {
          "base_uri": "https://localhost:8080/",
          "height": 582
        },
        "id": "3FNP6Qaee3Eb",
        "outputId": "ea5d21b9-ae2a-46fb-997f-c342bfae6d65"
      },
      "execution_count": 73,
      "outputs": [
        {
          "output_type": "stream",
          "name": "stderr",
          "text": [
            "/tmp/ipython-input-1282792241.py:7: FutureWarning: \n",
            "\n",
            "Passing `palette` without assigning `hue` is deprecated and will be removed in v0.14.0. Assign the `x` variable to `hue` and set `legend=False` for the same effect.\n",
            "\n",
            "  sns.barplot(data=feedback, x='Feature', y='Satisfaction (out of 5)', palette=\"Purples\")\n"
          ]
        },
        {
          "output_type": "display_data",
          "data": {
            "text/plain": [
              "<Figure size 640x480 with 1 Axes>"
            ],
            "image/png": "[encoded data removed]"
          },
          "metadata": {}
        }
      ]
    },
    {
      "cell_type": "code",
      "source": [
        "# ✅ Step 8: Export word frequency to CSV\n",
        "df = pd.DataFrame(top_words, columns=[\"Word\", \"Frequency\"])\n",
        "df.to_csv(\"word_frequency.csv\", index=False)\n",
        "\n",
        "from google.colab import files\n",
        "files.download(\"word_frequency.csv\")\n"
      ],
      "metadata": {
        "colab": {
          "base_uri": "https://localhost:8080/",
          "height": 17
        },
        "id": "_POPTZbIfB-j",
        "outputId": "7c2d247f-40f2-4881-ff17-a607a02c81f7"
      },
      "execution_count": 74,
      "outputs": [
        {
          "output_type": "display_data",
          "data": {
            "text/plain": [
              "<IPython.core.display.Javascript object>"
            ],
            "application/javascript": [
              "\n",
              "    async function download(id, filename, size) {\n",
              "      if (!google.colab.kernel.accessAllowed) {\n",
              "        return;\n",
              "      }\n",
              "      const div = document.createElement('div');\n",
              "      const label = document.createElement('label');\n",
              "      label.textContent = `Downloading \"${filename}\": `;\n",
              "      div.appendChild(label);\n",
              "      const progress = document.createElement('progress');\n",
              "      progress.max = size;\n",
              "      div.appendChild(progress);\n",
              "      document.body.appendChild(div);\n",
              "\n",
              "      const buffers = [];\n",
              "      let downloaded = 0;\n",
              "\n",
              "      const channel = await google.colab.kernel.comms.open(id);\n",
              "      // Send a message to notify the kernel that we're ready.\n",
              "      channel.send({})\n",
              "\n",
              "      for await (const message of channel.messages) {\n",
              "        // Send a message to notify the kernel that we're ready.\n",
              "        channel.send({})\n",
              "        if (message.buffers) {\n",
              "          for (const buffer of message.buffers) {\n",
              "            buffers.push(buffer);\n",
              "            downloaded += buffer.byteLength;\n",
              "            progress.value = downloaded;\n",
              "          }\n",
              "        }\n",
              "      }\n",
              "      const blob = new Blob(buffers, {type: 'application/binary'});\n",
              "      const a = document.createElement('a');\n",
              "      a.href = window.URL.createObjectURL(blob);\n",
              "      a.download = filename;\n",
              "      div.appendChild(a);\n",
              "      a.click();\n",
              "      div.remove();\n",
              "    }\n",
              "  "
            ]
          },
          "metadata": {}
        },
        {
          "output_type": "display_data",
          "data": {
            "text/plain": [
              "<IPython.core.display.Javascript object>"
            ],
            "application/javascript": [
              "download(\"download_b486b4c4-8b26-4f38-91b6-f9ebbe983299\", \"word_frequency.csv\", 113)"
            ]
          },
          "metadata": {}
        }
      ]
    }
  ]
}